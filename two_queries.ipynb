{
 "cells": [
  {
   "cell_type": "code",
   "execution_count": 31,
   "id": "415d7ab3-8382-4d60-b4d9-6f908a7f0bbc",
   "metadata": {},
   "outputs": [],
   "source": [
    "from mysql.connector import MySQLConnection, Error\n",
    "import pandas as pd"
   ]
  },
  {
   "cell_type": "code",
   "execution_count": 33,
   "id": "35610ec7-15db-46d2-90b2-d6d8d4b4662f",
   "metadata": {},
   "outputs": [],
   "source": [
    "def make_connection():\n",
    "    \"\"\"\n",
    "    Make a connection to the school database.\n",
    "    \"\"\"\n",
    "    try:\n",
    "        conn = MySQLConnection(host = 'IES-ADS-ClassDB.sjsu.edu',\n",
    "                               database = 'querycrew_wh',\n",
    "                               user = 'querycrew_user',\n",
    "                               password = 'Pomegranate_746')\n",
    "        \n",
    "        if conn.is_connected():\n",
    "            print('Connected to the MySQL database!')\n",
    "            \n",
    "            return conn\n",
    "                \n",
    "    except Error as e:\n",
    "        print('Connection failed.')\n",
    "        print(e)\n",
    "        \n",
    "        return None"
   ]
  },
  {
   "cell_type": "code",
   "execution_count": 35,
   "id": "063a0d59-5e01-40b7-a1ca-8b40eccc7df8",
   "metadata": {},
   "outputs": [
    {
     "name": "stdout",
     "output_type": "stream",
     "text": [
      "Connected to the MySQL database!\n"
     ]
    }
   ],
   "source": [
    "conn = make_connection()\n",
    "cursor = conn.cursor()"
   ]
  },
  {
   "cell_type": "markdown",
   "id": "44c75b5e-395a-4eb9-911d-dc48aedd421c",
   "metadata": {},
   "source": [
    "This query finds the number of EV arrivals per manufacturer using the ev_arrivals table"
   ]
  },
  {
   "cell_type": "code",
   "execution_count": 38,
   "id": "1dd6da9a-2a6a-4cfd-9ed1-4638ecc0cd3f",
   "metadata": {},
   "outputs": [
    {
     "name": "stdout",
     "output_type": "stream",
     "text": [
      "   manufacturer_id  number_of_arrivals\n",
      "0              103                   1\n",
      "1              106                   2\n",
      "2              107                   2\n",
      "3              110                   1\n",
      "4              112                   1\n",
      "5              113                   1\n",
      "6              114                   1\n",
      "7              116                   1\n",
      "8              117                   1\n",
      "9              127                   1\n",
      "10             128                   1\n",
      "11             143                   1\n",
      "12             146                   1\n",
      "13             150                   1\n",
      "14             156                   1\n",
      "15             157                   1\n",
      "16             163                   1\n",
      "17             165                   1\n",
      "18             180                   1\n",
      "19             187                   1\n"
     ]
    }
   ],
   "source": [
    "query = (\n",
    "    \"\"\"\n",
    "    SELECT manufacturer_id, COUNT(arrival_id) AS number_of_arrivals\n",
    "    FROM EV_arrivals\n",
    "    GROUP BY manufacturer_id\n",
    "    ORDER BY manufacturer_id\n",
    "    LIMIT 20;\n",
    "    \"\"\"\n",
    ")\n",
    "\n",
    "cursor.execute(query)\n",
    "results = cursor.fetchall()\n",
    "\n",
    "# cursor description to get metdata about the columns which we are selecting\n",
    "column_names = [i[0] for i in cursor.description]\n",
    "\n",
    "df = pd.DataFrame(results, columns=column_names)\n",
    "\n",
    "print(df)"
   ]
  },
  {
   "cell_type": "markdown",
   "id": "94880d96-5ac0-478b-8362-b1fc2551014e",
   "metadata": {},
   "source": [
    "This query finds the latest arrival for each dealer and displays the make and model of the ev"
   ]
  },
  {
   "cell_type": "code",
   "execution_count": 41,
   "id": "b13db896-e7e9-4812-8274-6c7e73d5452f",
   "metadata": {},
   "outputs": [
    {
     "name": "stdout",
     "output_type": "stream",
     "text": [
      "   dealer_id latest_arrival_date  ev_make         ev_model\n",
      "0          1          2020-12-04     Ford  F-150 Lightning\n",
      "1         10          2023-02-03      Kia              Ev6\n",
      "2         11          2021-09-27     Audi        Q4 E-Tron\n",
      "3         12          2022-07-13      Kia             Niro\n",
      "4         13          2023-12-20      Bmw               Ix\n",
      "5         14          2025-09-22  Hyundai          Ioniq 6\n",
      "6         15          2022-08-28      Bmw               I3\n",
      "7         16          2022-04-04      Bmw               I3\n",
      "8         17          2021-10-16  Hyundai             Kona\n",
      "9         18          2025-06-20  Hyundai          Ioniq 5\n",
      "10        19          2025-12-21   Toyota      Prius Prime\n",
      "11         2          2025-04-21    Honda          Clarity\n",
      "12        20          2023-06-21      Kia             Niro\n",
      "13         3          2025-10-06   Nissan            Ariya\n",
      "14         4          2020-09-24      Kia              Ev6\n",
      "15         5          2024-08-16      Bmw               Ix\n",
      "16         5          2021-09-27    Tesla          Model Y\n",
      "17         6          2020-04-07    Tesla          Model X\n",
      "18         7          2025-09-15      Kia             Niro\n",
      "19         8          2025-10-16  Hyundai             Kona\n",
      "20         9          2024-11-24      Bmw               I4\n"
     ]
    }
   ],
   "source": [
    "query = (\n",
    "    \"\"\"\n",
    "    SELECT dealer_id, MAX(arrival_date) AS latest_arrival_date, ev_make, ev_model\n",
    "    FROM EV_arrivals\n",
    "    WHERE arrival_date IN (SELECT MAX(arrival_date) from EV_arrivals GROUP BY dealer_id)\n",
    "    GROUP BY dealer_id, ev_make, ev_model\n",
    "    ORDER BY dealer_id;\n",
    "    \"\"\"\n",
    ")\n",
    "\n",
    "cursor.execute(query)\n",
    "results = cursor.fetchall()\n",
    "\n",
    "# cursor description to get metdata about the columns which we are selecting\n",
    "column_names = [i[0] for i in cursor.description]\n",
    "\n",
    "df = pd.DataFrame(results, columns=column_names)\n",
    "\n",
    "print(df)"
   ]
  },
  {
   "cell_type": "markdown",
   "id": "6daf5934-fab7-4094-a83f-d44fe301ce12",
   "metadata": {},
   "source": [
    "This query finds the total sales revenue per car make and car model:"
   ]
  },
  {
   "cell_type": "code",
   "execution_count": 44,
   "id": "a2c16bbc-93ec-4117-88de-97653c0056f7",
   "metadata": {},
   "outputs": [
    {
     "name": "stdout",
     "output_type": "stream",
     "text": [
      "       make        model  total_revenue\n",
      "0      Audi           A4        28025.0\n",
      "1      Audi           A6        32365.0\n",
      "2      Audi           Q5        82754.0\n",
      "3      Audi           Q7        78686.0\n",
      "4       Bmw     3 Series       143202.0\n",
      "5       Bmw     5 Series        84023.0\n",
      "6       Bmw           X3       215256.0\n",
      "7     Chevy      Equinox        54261.0\n",
      "8     Chevy       Impala        37355.0\n",
      "9     Chevy       Malibu        57120.0\n",
      "10    Chevy  Trailblazer       189366.0\n",
      "11     Ford       Escape        70474.0\n",
      "12     Ford     Explorer        34042.0\n",
      "13     Ford        Focus       125112.0\n",
      "14     Ford       Fusion        27587.0\n",
      "15    Honda       Accord        44903.0\n",
      "16    Honda        Civic       229630.0\n",
      "17    Honda         Cr-V       185081.0\n",
      "18  Hyundai      Elantra        75007.0\n",
      "19  Hyundai     Santa Fe        89849.0\n",
      "20  Hyundai       Sonata        76771.0\n",
      "21  Hyundai       Tucson       142781.0\n",
      "22      Kia       Optima        79566.0\n",
      "23      Kia      Sorento        57588.0\n",
      "24      Kia         Soul       148809.0\n",
      "25      Kia     Sportage        39787.0\n",
      "26   Nissan       Altima        23531.0\n",
      "27   Nissan       Murano        85130.0\n",
      "28   Nissan        Rogue        20845.0\n",
      "29   Nissan       Sentra       144031.0\n",
      "30    Tesla      Model 3       137493.0\n",
      "31    Tesla      Model S        90885.0\n",
      "32    Tesla      Model X       142971.0\n",
      "33    Tesla      Model Y       118592.0\n",
      "34   Toyota        Camry        59673.0\n",
      "35   Toyota      Corolla       133520.0\n",
      "36   Toyota   Highlander        20949.0\n",
      "37   Toyota        Prius        71382.0\n"
     ]
    }
   ],
   "source": [
    "query = (\n",
    "    \"\"\"\n",
    "    SELECT car_make as make, car_model as model, SUM(price) AS total_revenue\n",
    "    FROM car_sales\n",
    "    GROUP BY car_make, car_model\n",
    "    ORDER BY car_make, car_model;\n",
    "    \"\"\"\n",
    ")\n",
    "\n",
    "cursor.execute(query)\n",
    "results = cursor.fetchall()\n",
    "\n",
    "# cursor description to get metdata about the columns which we are selecting\n",
    "column_names = [i[0] for i in cursor.description]\n",
    "\n",
    "df = pd.DataFrame(results, columns=column_names)\n",
    "\n",
    "print(df)"
   ]
  },
  {
   "cell_type": "markdown",
   "id": "dfb3c8dd-fe01-487c-9334-f5b50945d8d0",
   "metadata": {},
   "source": [
    "This query finds the average price of cars sold by each dealer"
   ]
  },
  {
   "cell_type": "code",
   "execution_count": 47,
   "id": "a2663b7b-62ac-41d8-b811-d5254e9bfad6",
   "metadata": {},
   "outputs": [
    {
     "name": "stdout",
     "output_type": "stream",
     "text": [
      "   dealer_id  average_price\n",
      "0         10       16578.00\n",
      "1        100       17557.00\n",
      "2        103       34607.00\n",
      "3        106       16745.00\n",
      "4        107       29769.00\n",
      "5        108       28275.67\n",
      "6        109       21608.00\n",
      "7         11       25626.00\n",
      "8        111       31040.00\n",
      "9        115       28148.50\n",
      "10       116       24684.00\n",
      "11       117       19409.00\n",
      "12       118       29425.00\n",
      "13       121       21865.00\n",
      "14       122       37246.00\n",
      "15       127       24100.00\n",
      "16       129       33697.00\n",
      "17        13       28025.00\n",
      "18       130       28533.00\n",
      "19       135       32660.50\n"
     ]
    }
   ],
   "source": [
    "query = (\n",
    "    \"\"\"\n",
    "    SELECT dealer_id, ROUND(AVG(price),2) AS average_price\n",
    "    FROM car_sales\n",
    "    GROUP BY dealer_id\n",
    "    ORDER BY dealer_id\n",
    "    LIMIT 20;\n",
    "    \"\"\"\n",
    ")\n",
    "\n",
    "cursor.execute(query)\n",
    "results = cursor.fetchall()\n",
    "\n",
    "# cursor description to get metdata about the columns which we are selecting\n",
    "column_names = [i[0] for i in cursor.description]\n",
    "\n",
    "df = pd.DataFrame(results, columns=column_names)\n",
    "\n",
    "print(df)"
   ]
  }
 ],
 "metadata": {
  "kernelspec": {
   "display_name": "Python [conda env:base] *",
   "language": "python",
   "name": "conda-base-py"
  },
  "language_info": {
   "codemirror_mode": {
    "name": "ipython",
    "version": 3
   },
   "file_extension": ".py",
   "mimetype": "text/x-python",
   "name": "python",
   "nbconvert_exporter": "python",
   "pygments_lexer": "ipython3",
   "version": "3.12.7"
  }
 },
 "nbformat": 4,
 "nbformat_minor": 5
}
