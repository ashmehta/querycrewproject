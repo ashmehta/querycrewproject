{
 "cells": [
  {
   "cell_type": "code",
   "execution_count": 28,
   "id": "4c3d12e6",
   "metadata": {},
   "outputs": [],
   "source": [
    "import pandas as pd\n",
    "from sqlalchemy import create_engine\n",
    "from configparser import ConfigParser\n",
    "\n",
    "# Load DB creds from .ini\n",
    "def get_sqlalchemy_engine(config_file, db_name):\n",
    "    config = ConfigParser()\n",
    "    config.read(config_file)\n",
    "    db = config['mysql']\n",
    "    return create_engine(\n",
    "        f\"mysql+mysqlconnector://{db['user']}:{db['password']}@{db['host']}/{db_name}\"\n",
    "    )\n",
    "\n",
    "source_engine = get_sqlalchemy_engine('querycrew.ini', 'querycrew_db')\n",
    "target_engine = get_sqlalchemy_engine('querycrew.ini', 'querycrew_wh')"
   ]
  },
  {
   "cell_type": "code",
   "execution_count": 29,
   "id": "5ac28144",
   "metadata": {},
   "outputs": [],
   "source": [
    "def clean_generic(df):\n",
    "    df = df.drop_duplicates()\n",
    "    df.columns = df.columns.str.strip()\n",
    "    for col in df.select_dtypes(include='object').columns:\n",
    "        df[col] = df[col].astype(str).str.strip().str.title()\n",
    "        df[col] = df[col].replace(['None', 'Nan'], pd.NA)\n",
    "    return df.dropna()\n",
    "\n",
    "def clean_customers(df):\n",
    "    df = df.drop_duplicates()\n",
    "    df['first_name'] = df['first_name'].str.strip().str.title()\n",
    "    df['last_name'] = df['last_name'].str.strip().str.title()\n",
    "    df['email'] = df['email'].str.lower().replace(['none', 'nan'], pd.NA)\n",
    "    df['phone'] = df['phone'].replace(['None', 'none', 'nan'], pd.NA)\n",
    "    df['address'] = df['address'].str.title()\n",
    "    return df.dropna(subset=['email', 'phone'])\n",
    "\n",
    "def clean_dealer_sales_summary(df):\n",
    "    # Standardize dealer_name\n",
    "    df['dealer_name'] = df['dealer_name'].astype(str).str.strip().str.title()\n",
    "\n",
    "    # Drop missing dealer_name rows\n",
    "    df = df[df['dealer_name'].notna()]\n",
    "    df = df[df['dealer_name'].str.lower() != 'none']\n",
    "\n",
    "    # Group by dealer_name and sum numeric fields\n",
    "    numeric_cols = df.select_dtypes(include='number').columns\n",
    "    df_clean = df.groupby('dealer_name', as_index=False)[numeric_cols].sum()\n",
    "\n",
    "    return df_clean"
   ]
  },
  {
   "cell_type": "code",
   "execution_count": 30,
   "id": "b95fd358",
   "metadata": {},
   "outputs": [],
   "source": [
    "def etl_table(table_name):\n",
    "    print(f\"\\nProcessing: {table_name}\")\n",
    "\n",
    "    df = pd.read_sql(f\"SELECT * FROM {table_name}\", source_engine)\n",
    "\n",
    "    if table_name == 'Customers':\n",
    "        df_clean = clean_customers(df)\n",
    "    elif table_name == 'dealer_sales_summary':\n",
    "        df_clean = clean_dealer_sales_summary(df)\n",
    "    else:\n",
    "        df_clean = clean_generic(df)\n",
    "\n",
    "    # Fast clean load to target WH\n",
    "    df_clean.to_sql(name=table_name, con=target_engine, if_exists='replace', index=False, method='multi')\n",
    "\n",
    "    print(f\"{table_name} cleaned and loaded into querycrew_wh\")"
   ]
  },
  {
   "cell_type": "code",
   "execution_count": 31,
   "id": "d8ee0d17",
   "metadata": {},
   "outputs": [
    {
     "name": "stdout",
     "output_type": "stream",
     "text": [
      "\n",
      "Processing: Car\n"
     ]
    },
    {
     "name": "stderr",
     "output_type": "stream",
     "text": [
      "/var/folders/yg/1wxj9l_55v1gv1r0bh8nkh4m0000gn/T/ipykernel_74482/4121091458.py:5: SettingWithCopyWarning: \n",
      "A value is trying to be set on a copy of a slice from a DataFrame.\n",
      "Try using .loc[row_indexer,col_indexer] = value instead\n",
      "\n",
      "See the caveats in the documentation: https://pandas.pydata.org/pandas-docs/stable/user_guide/indexing.html#returning-a-view-versus-a-copy\n",
      "  df[col] = df[col].astype(str).str.strip().str.title()\n",
      "/var/folders/yg/1wxj9l_55v1gv1r0bh8nkh4m0000gn/T/ipykernel_74482/4121091458.py:6: SettingWithCopyWarning: \n",
      "A value is trying to be set on a copy of a slice from a DataFrame.\n",
      "Try using .loc[row_indexer,col_indexer] = value instead\n",
      "\n",
      "See the caveats in the documentation: https://pandas.pydata.org/pandas-docs/stable/user_guide/indexing.html#returning-a-view-versus-a-copy\n",
      "  df[col] = df[col].replace(['None', 'Nan'], pd.NA)\n"
     ]
    },
    {
     "name": "stdout",
     "output_type": "stream",
     "text": [
      "Car cleaned and loaded into querycrew_wh\n",
      "\n",
      "Processing: car_sales\n"
     ]
    },
    {
     "name": "stderr",
     "output_type": "stream",
     "text": [
      "/var/folders/yg/1wxj9l_55v1gv1r0bh8nkh4m0000gn/T/ipykernel_74482/4121091458.py:5: SettingWithCopyWarning: \n",
      "A value is trying to be set on a copy of a slice from a DataFrame.\n",
      "Try using .loc[row_indexer,col_indexer] = value instead\n",
      "\n",
      "See the caveats in the documentation: https://pandas.pydata.org/pandas-docs/stable/user_guide/indexing.html#returning-a-view-versus-a-copy\n",
      "  df[col] = df[col].astype(str).str.strip().str.title()\n",
      "/var/folders/yg/1wxj9l_55v1gv1r0bh8nkh4m0000gn/T/ipykernel_74482/4121091458.py:6: SettingWithCopyWarning: \n",
      "A value is trying to be set on a copy of a slice from a DataFrame.\n",
      "Try using .loc[row_indexer,col_indexer] = value instead\n",
      "\n",
      "See the caveats in the documentation: https://pandas.pydata.org/pandas-docs/stable/user_guide/indexing.html#returning-a-view-versus-a-copy\n",
      "  df[col] = df[col].replace(['None', 'Nan'], pd.NA)\n"
     ]
    },
    {
     "name": "stdout",
     "output_type": "stream",
     "text": [
      "car_sales cleaned and loaded into querycrew_wh\n",
      "\n",
      "Processing: Customers\n"
     ]
    },
    {
     "name": "stderr",
     "output_type": "stream",
     "text": [
      "/var/folders/yg/1wxj9l_55v1gv1r0bh8nkh4m0000gn/T/ipykernel_74482/4121091458.py:11: SettingWithCopyWarning: \n",
      "A value is trying to be set on a copy of a slice from a DataFrame.\n",
      "Try using .loc[row_indexer,col_indexer] = value instead\n",
      "\n",
      "See the caveats in the documentation: https://pandas.pydata.org/pandas-docs/stable/user_guide/indexing.html#returning-a-view-versus-a-copy\n",
      "  df['first_name'] = df['first_name'].str.strip().str.title()\n",
      "/var/folders/yg/1wxj9l_55v1gv1r0bh8nkh4m0000gn/T/ipykernel_74482/4121091458.py:12: SettingWithCopyWarning: \n",
      "A value is trying to be set on a copy of a slice from a DataFrame.\n",
      "Try using .loc[row_indexer,col_indexer] = value instead\n",
      "\n",
      "See the caveats in the documentation: https://pandas.pydata.org/pandas-docs/stable/user_guide/indexing.html#returning-a-view-versus-a-copy\n",
      "  df['last_name'] = df['last_name'].str.strip().str.title()\n",
      "/var/folders/yg/1wxj9l_55v1gv1r0bh8nkh4m0000gn/T/ipykernel_74482/4121091458.py:13: SettingWithCopyWarning: \n",
      "A value is trying to be set on a copy of a slice from a DataFrame.\n",
      "Try using .loc[row_indexer,col_indexer] = value instead\n",
      "\n",
      "See the caveats in the documentation: https://pandas.pydata.org/pandas-docs/stable/user_guide/indexing.html#returning-a-view-versus-a-copy\n",
      "  df['email'] = df['email'].str.lower().replace(['none', 'nan'], pd.NA)\n",
      "/var/folders/yg/1wxj9l_55v1gv1r0bh8nkh4m0000gn/T/ipykernel_74482/4121091458.py:14: SettingWithCopyWarning: \n",
      "A value is trying to be set on a copy of a slice from a DataFrame.\n",
      "Try using .loc[row_indexer,col_indexer] = value instead\n",
      "\n",
      "See the caveats in the documentation: https://pandas.pydata.org/pandas-docs/stable/user_guide/indexing.html#returning-a-view-versus-a-copy\n",
      "  df['phone'] = df['phone'].replace(['None', 'none', 'nan'], pd.NA)\n",
      "/var/folders/yg/1wxj9l_55v1gv1r0bh8nkh4m0000gn/T/ipykernel_74482/4121091458.py:15: SettingWithCopyWarning: \n",
      "A value is trying to be set on a copy of a slice from a DataFrame.\n",
      "Try using .loc[row_indexer,col_indexer] = value instead\n",
      "\n",
      "See the caveats in the documentation: https://pandas.pydata.org/pandas-docs/stable/user_guide/indexing.html#returning-a-view-versus-a-copy\n",
      "  df['address'] = df['address'].str.title()\n"
     ]
    },
    {
     "name": "stdout",
     "output_type": "stream",
     "text": [
      "Customers cleaned and loaded into querycrew_wh\n",
      "\n",
      "Processing: Date\n"
     ]
    },
    {
     "name": "stderr",
     "output_type": "stream",
     "text": [
      "/var/folders/yg/1wxj9l_55v1gv1r0bh8nkh4m0000gn/T/ipykernel_74482/4121091458.py:5: SettingWithCopyWarning: \n",
      "A value is trying to be set on a copy of a slice from a DataFrame.\n",
      "Try using .loc[row_indexer,col_indexer] = value instead\n",
      "\n",
      "See the caveats in the documentation: https://pandas.pydata.org/pandas-docs/stable/user_guide/indexing.html#returning-a-view-versus-a-copy\n",
      "  df[col] = df[col].astype(str).str.strip().str.title()\n",
      "/var/folders/yg/1wxj9l_55v1gv1r0bh8nkh4m0000gn/T/ipykernel_74482/4121091458.py:6: SettingWithCopyWarning: \n",
      "A value is trying to be set on a copy of a slice from a DataFrame.\n",
      "Try using .loc[row_indexer,col_indexer] = value instead\n",
      "\n",
      "See the caveats in the documentation: https://pandas.pydata.org/pandas-docs/stable/user_guide/indexing.html#returning-a-view-versus-a-copy\n",
      "  df[col] = df[col].replace(['None', 'Nan'], pd.NA)\n"
     ]
    },
    {
     "name": "stdout",
     "output_type": "stream",
     "text": [
      "Date cleaned and loaded into querycrew_wh\n",
      "\n",
      "Processing: dealer_sales_summary\n",
      "dealer_sales_summary cleaned and loaded into querycrew_wh\n",
      "\n",
      "Processing: EV_arrivals\n"
     ]
    },
    {
     "name": "stderr",
     "output_type": "stream",
     "text": [
      "/var/folders/yg/1wxj9l_55v1gv1r0bh8nkh4m0000gn/T/ipykernel_74482/4121091458.py:5: SettingWithCopyWarning: \n",
      "A value is trying to be set on a copy of a slice from a DataFrame.\n",
      "Try using .loc[row_indexer,col_indexer] = value instead\n",
      "\n",
      "See the caveats in the documentation: https://pandas.pydata.org/pandas-docs/stable/user_guide/indexing.html#returning-a-view-versus-a-copy\n",
      "  df[col] = df[col].astype(str).str.strip().str.title()\n",
      "/var/folders/yg/1wxj9l_55v1gv1r0bh8nkh4m0000gn/T/ipykernel_74482/4121091458.py:6: SettingWithCopyWarning: \n",
      "A value is trying to be set on a copy of a slice from a DataFrame.\n",
      "Try using .loc[row_indexer,col_indexer] = value instead\n",
      "\n",
      "See the caveats in the documentation: https://pandas.pydata.org/pandas-docs/stable/user_guide/indexing.html#returning-a-view-versus-a-copy\n",
      "  df[col] = df[col].replace(['None', 'Nan'], pd.NA)\n"
     ]
    },
    {
     "name": "stdout",
     "output_type": "stream",
     "text": [
      "EV_arrivals cleaned and loaded into querycrew_wh\n"
     ]
    }
   ],
   "source": [
    "tables = ['Car', 'car_sales', 'Customers', 'Date', 'dealer_sales_summary', 'EV_arrivals']\n",
    "for tbl in tables:\n",
    "    etl_table(tbl)"
   ]
  }
 ],
 "metadata": {
  "kernelspec": {
   "display_name": "Python 3 (ipykernel)",
   "language": "python",
   "name": "python3"
  },
  "language_info": {
   "codemirror_mode": {
    "name": "ipython",
    "version": 3
   },
   "file_extension": ".py",
   "mimetype": "text/x-python",
   "name": "python",
   "nbconvert_exporter": "python",
   "pygments_lexer": "ipython3",
   "version": "3.11.1"
  }
 },
 "nbformat": 4,
 "nbformat_minor": 5
}
