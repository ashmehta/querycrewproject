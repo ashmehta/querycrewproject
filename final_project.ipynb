{
 "cells": [
  {
   "cell_type": "code",
   "execution_count": 2,
   "id": "18258ed4-8f42-4dee-9c5e-81e02fe60aa1",
   "metadata": {},
   "outputs": [],
   "source": [
    "from mysql.connector import MySQLConnection, Error"
   ]
  },
  {
   "cell_type": "code",
   "execution_count": null,
   "id": "29119102-851b-4b06-9ed1-ad8740089ef7",
   "metadata": {},
   "outputs": [],
   "source": []
  },
  {
   "cell_type": "code",
   "execution_count": 5,
   "id": "7f5f948f-407f-4db0-aac6-00cf569aabf7",
   "metadata": {},
   "outputs": [],
   "source": [
    "def make_connection():\n",
    "    \"\"\"\n",
    "    Make a connection to the school database.\n",
    "    \"\"\"\n",
    "    try:\n",
    "        conn = MySQLConnection(host = 'IES-ADS-ClassDB.sjsu.edu',\n",
    "                               database = 'querycrew_wh',\n",
    "                               user = 'querycrew_user',\n",
    "                               password = 'Pomegranate_746')\n",
    "        \n",
    "        if conn.is_connected():\n",
    "            print('Connected to the MySQL database!')\n",
    "            \n",
    "            return conn\n",
    "                \n",
    "    except Error as e:\n",
    "        print('Connection failed.')\n",
    "        print(e)\n",
    "        \n",
    "        return None"
   ]
  },
  {
   "cell_type": "code",
   "execution_count": 7,
   "id": "caaf63f9-7d6c-457b-b331-7a009b5bf034",
   "metadata": {},
   "outputs": [
    {
     "name": "stdout",
     "output_type": "stream",
     "text": [
      "Connected to the MySQL database!\n"
     ]
    }
   ],
   "source": [
    "conn = make_connection()\n",
    "cursor = conn.cursor()"
   ]
  },
  {
   "cell_type": "code",
   "execution_count": 9,
   "id": "4b8139d6-e80c-4afc-aeb9-04842eff1caf",
   "metadata": {},
   "outputs": [
    {
     "ename": "SystemExit",
     "evalue": "0",
     "output_type": "error",
     "traceback": [
      "An exception has occurred, use %tb to see the full traceback.\n",
      "\u001b[0;31mSystemExit\u001b[0m\u001b[0;31m:\u001b[0m 0\n"
     ]
    },
    {
     "name": "stderr",
     "output_type": "stream",
     "text": [
      "/opt/anaconda3/lib/python3.12/site-packages/IPython/core/interactiveshell.py:3585: UserWarning: To exit: use 'exit', 'quit', or Ctrl-D.\n",
      "  warn(\"To exit: use 'exit', 'quit', or Ctrl-D.\", stacklevel=1)\n"
     ]
    }
   ],
   "source": [
    "import sys\n",
    "from PyQt5.QtWidgets import (\n",
    "    QApplication, QMainWindow, QWidget, QVBoxLayout, QPushButton,\n",
    "    QLabel, QComboBox, QMessageBox, QTableView, QHeaderView\n",
    ")\n",
    "from PyQt5.QtSql import QSqlDatabase, QSqlTableModel, QSqlQuery, QSqlQueryModel\n",
    "\n",
    "class OperationalApp(QMainWindow):\n",
    "    def __init__(self):\n",
    "        super().__init__()\n",
    "        self.setWindowTitle(\"Query Crew Main Menu\")\n",
    "        self.resize(800, 600)\n",
    "\n",
    "        # Initialize the database connection\n",
    "        self.db = self.init_db()\n",
    "        self.init_menu()\n",
    "\n",
    "    def init_db(self):\n",
    "        db = QSqlDatabase.addDatabase(\"QMYSQL\")\n",
    "        db.setHostName(\"IES-ADS-ClassDB.sjsu.edu\")\n",
    "        db.setDatabaseName(\"querycrew_wh\")\n",
    "        db.setUserName(\"querycrew_user\")\n",
    "        db.setPassword(\"Pomegranate_746\")\n",
    "        if not db.open():\n",
    "            QMessageBox.critical(None, \"DB Connection Error\", db.lastError().text())\n",
    "            sys.exit(1)\n",
    "        return db\n",
    "\n",
    "    def init_menu(self):\n",
    "        menu = QWidget()\n",
    "        layout = QVBoxLayout(menu)\n",
    "\n",
    "        layout.addWidget(QLabel(\"Welcome to Query Crew!\"))\n",
    "        layout.addWidget(QLabel(\"Select an action:\"))\n",
    "\n",
    "        btn1 = QPushButton(\"View Customers\")\n",
    "        btn1.clicked.connect(lambda: self.show_table(\"Customers\"))\n",
    "        layout.addWidget(btn1)\n",
    "\n",
    "        btn2 = QPushButton(\"Average Car Cost\")\n",
    "        btn2.clicked.connect(self.show_avg_cost)\n",
    "        layout.addWidget(btn2)\n",
    "\n",
    "        btn3 = QPushButton(\"Search for a car\")\n",
    "        btn3.clicked.connect(self.search_car)\n",
    "        layout.addWidget(btn3)\n",
    "\n",
    "        btn4 = QPushButton(\"20 Random Customer Purchases\")\n",
    "        btn4.clicked.connect(self.show_random_customers)\n",
    "        layout.addWidget(btn4)\n",
    "\n",
    "        self.setCentralWidget(menu)\n",
    "\n",
    "    def show_avg_cost(self):\n",
    "        # Use QSqlQuery to run the average car cost query\n",
    "        q = QSqlQuery(self.db)\n",
    "        q.exec_(\"SELECT AVG(car_cost) FROM Car\")\n",
    "        if q.next():\n",
    "            avg_cost = q.value(0)\n",
    "            QMessageBox.information(self, \"Average Car Cost\", f\"${avg_cost:.2f}\")\n",
    "        else:\n",
    "            QMessageBox.warning(self, \"Error\", \"Could not compute average.\")\n",
    "\n",
    "    def search_car(self):\n",
    "        # Build a simple dropdown to pick an EV make\n",
    "        widget = QWidget()\n",
    "        layout = QVBoxLayout(widget)\n",
    "        layout.addWidget(QLabel(\"Select type of make:\"))\n",
    "        combo = QComboBox()\n",
    "        layout.addWidget(combo)\n",
    "\n",
    "        q = QSqlQuery(self.db)\n",
    "        q.exec_(\"SELECT DISTINCT ev_make FROM EV_arrivals ORDER BY ev_make\")\n",
    "        while q.next():\n",
    "            combo.addItem(str(q.value(0)))\n",
    "\n",
    "        back = QPushButton(\"Back to Menu\")\n",
    "        back.clicked.connect(self.init_menu)\n",
    "        layout.addWidget(back)\n",
    "        self.setCentralWidget(widget)\n",
    "\n",
    "    def show_random_customers(self):\n",
    "        # Display 20 random customers and their car purchases\n",
    "        sql = (\n",
    "            \"SELECT * FROM (\"\n",
    "            \"  SELECT c.first_name AS First_name, c.last_name AS Last_name,\"\n",
    "            \"         GROUP_CONCAT(CONCAT(cs.car_make, ' ', cs.car_model) SEPARATOR ', ')\"\n",
    "            \"         AS Cars_Bought\"\n",
    "            \"  FROM Customers c\"\n",
    "            \"  JOIN car_sales cs ON c.customer_id = cs.customer_id\"\n",
    "            \"  GROUP BY c.first_name, c.last_name\"\n",
    "            \") AS grouped_customers\"\n",
    "            \" ORDER BY RAND()\"\n",
    "            \" LIMIT 20\"\n",
    "        )\n",
    "        model = QSqlQueryModel(self)\n",
    "        model.setQuery(sql, self.db)\n",
    "        err = model.lastError().text()\n",
    "        if err:\n",
    "            QMessageBox.warning(self, \"Query Error\", err)\n",
    "            return\n",
    "\n",
    "        widget = QWidget()\n",
    "        layout = QVBoxLayout(widget)\n",
    "        view = QTableView()\n",
    "        view.setModel(model)\n",
    "        view.horizontalHeader().setSectionResizeMode(QHeaderView.Stretch)\n",
    "        layout.addWidget(view)\n",
    "\n",
    "        back = QPushButton(\"Back to Menu\")\n",
    "        back.clicked.connect(self.init_menu)\n",
    "        layout.addWidget(back)\n",
    "        self.setCentralWidget(widget)\n",
    "\n",
    "    def show_table(self, tbl_name: str):\n",
    "        # Display a full table view\n",
    "        model = QSqlTableModel(self, self.db)\n",
    "        model.setTable(tbl_name)\n",
    "        model.select()\n",
    "\n",
    "        widget = QWidget()\n",
    "        layout = QVBoxLayout(widget)\n",
    "        view = QTableView()\n",
    "        view.setModel(model)\n",
    "        view.horizontalHeader().setSectionResizeMode(QHeaderView.Stretch)\n",
    "        layout.addWidget(view)\n",
    "\n",
    "        back = QPushButton(\"Back to Menu\")\n",
    "        back.clicked.connect(self.init_menu)\n",
    "        layout.addWidget(back)\n",
    "        self.setCentralWidget(widget)\n",
    "\n",
    "if __name__ == \"__main__\":\n",
    "    app = QApplication(sys.argv)\n",
    "    win = OperationalApp()\n",
    "    win.show()\n",
    "    sys.exit(app.exec_())\n"
   ]
  },
  {
   "cell_type": "markdown",
   "id": "40cac2fd-0d32-4fd9-8f8d-90970f13ffa6",
   "metadata": {},
   "source": []
  },
  {
   "cell_type": "code",
   "execution_count": null,
   "id": "9d70b9c7-954a-4d9d-a6f7-1b5c0fd788de",
   "metadata": {},
   "outputs": [],
   "source": []
  },
  {
   "cell_type": "code",
   "execution_count": 13,
   "id": "46fea14e-1cc9-4df0-bc14-1e956974f0ef",
   "metadata": {},
   "outputs": [],
   "source": [
    "cursor.close()\n",
    "conn.close()"
   ]
  },
  {
   "cell_type": "code",
   "execution_count": null,
   "id": "5d8b6466-6c12-4fc7-a800-bb302beae8c3",
   "metadata": {},
   "outputs": [],
   "source": []
  }
 ],
 "metadata": {
  "kernelspec": {
   "display_name": "Python [conda env:base] *",
   "language": "python",
   "name": "conda-base-py"
  },
  "language_info": {
   "codemirror_mode": {
    "name": "ipython",
    "version": 3
   },
   "file_extension": ".py",
   "mimetype": "text/x-python",
   "name": "python",
   "nbconvert_exporter": "python",
   "pygments_lexer": "ipython3",
   "version": "3.12.7"
  }
 },
 "nbformat": 4,
 "nbformat_minor": 5
}
