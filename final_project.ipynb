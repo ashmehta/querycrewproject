{
 "cells": [
  {
   "cell_type": "code",
   "execution_count": 1,
   "id": "18258ed4-8f42-4dee-9c5e-81e02fe60aa1",
   "metadata": {},
   "outputs": [],
   "source": [
    "from mysql.connector import MySQLConnection, Error"
   ]
  },
  {
   "cell_type": "code",
   "execution_count": 2,
   "id": "7f5f948f-407f-4db0-aac6-00cf569aabf7",
   "metadata": {},
   "outputs": [],
   "source": [
    "def make_connection():\n",
    "    \"\"\"\n",
    "    Make a connection to the school database.\n",
    "    \"\"\"\n",
    "    try:\n",
    "        conn = MySQLConnection(host = 'IES-ADS-ClassDB.sjsu.edu',\n",
    "                               database = 'querycrew_wh',\n",
    "                               user = 'querycrew_user',\n",
    "                               password = 'Pomegranate_746')\n",
    "        \n",
    "        if conn.is_connected():\n",
    "            print('Connected to the MySQL database!')\n",
    "            \n",
    "            return conn\n",
    "                \n",
    "    except Error as e:\n",
    "        print('Connection failed.')\n",
    "        print(e)\n",
    "        \n",
    "        return None"
   ]
  },
  {
   "cell_type": "code",
   "execution_count": 5,
   "id": "caaf63f9-7d6c-457b-b331-7a009b5bf034",
   "metadata": {},
   "outputs": [
    {
     "name": "stdout",
     "output_type": "stream",
     "text": [
      "Connected to the MySQL database!\n"
     ]
    }
   ],
   "source": [
    "conn = make_connection()\n",
    "cursor = conn.cursor()"
   ]
  },
  {
   "cell_type": "code",
   "execution_count": 7,
   "id": "4b8139d6-e80c-4afc-aeb9-04842eff1caf",
   "metadata": {},
   "outputs": [],
   "source": [
    "sql = \"use querycrew_wh;\"\n",
    "\n",
    "cursor.execute(sql)\n",
    "#rows = cursor.fetchall()"
   ]
  },
  {
   "cell_type": "code",
   "execution_count": 9,
   "id": "9d70b9c7-954a-4d9d-a6f7-1b5c0fd788de",
   "metadata": {},
   "outputs": [
    {
     "ename": "SystemExit",
     "evalue": "0",
     "output_type": "error",
     "traceback": [
      "An exception has occurred, use %tb to see the full traceback.\n",
      "\u001b[0;31mSystemExit\u001b[0m\u001b[0;31m:\u001b[0m 0\n"
     ]
    },
    {
     "name": "stderr",
     "output_type": "stream",
     "text": [
      "/opt/anaconda3/lib/python3.12/site-packages/IPython/core/interactiveshell.py:3585: UserWarning: To exit: use 'exit', 'quit', or Ctrl-D.\n",
      "  warn(\"To exit: use 'exit', 'quit', or Ctrl-D.\", stacklevel=1)\n"
     ]
    }
   ],
   "source": [
    "import sys\n",
    "from PyQt5.QtWidgets import (\n",
    "    QApplication, QMainWindow, QWidget, QVBoxLayout, QHBoxLayout,\n",
    "    QPushButton, QLineEdit, QLabel, QTabWidget, QMessageBox, QTableView\n",
    ")\n",
    "from PyQt5.QtSql import QSqlDatabase, QSqlTableModel\n",
    "\n",
    "class OperationalApp(QMainWindow):\n",
    "    def __init__(self):\n",
    "        super().__init__()\n",
    "        self.setWindowTitle(\"Operational Database GUI\")\n",
    "        self.resize(800, 600)\n",
    "\n",
    "        # Initialize database connection\n",
    "        self.db = self.init_db()\n",
    "\n",
    "        # Set up a model for the 'Customers' table\n",
    "        self.model = QSqlTableModel(self, self.db)\n",
    "        self.model.setTable(\"Customers\")\n",
    "        self.model.select()\n",
    "\n",
    "        # Build the UI\n",
    "        self.init_ui()\n",
    "\n",
    "    def init_db(self):\n",
    "        db = QSqlDatabase.addDatabase(\"QMYSQL\")\n",
    "        db.setHostName(\"IES-ADS-ClassDB.sjsu.edu\")\n",
    "        db.setDatabaseName(\"querycrew_wh\")\n",
    "        db.setUserName(\"querycrew_user\")\n",
    "        db.setPassword(\"Pomegranate_746\")\n",
    "        if not db.open():\n",
    "            QMessageBox.critical(None, \"DB Connection Error\", db.lastError().text())\n",
    "            sys.exit(1)\n",
    "        return db\n",
    "\n",
    "    def init_ui(self):\n",
    "        tabs = QTabWidget()\n",
    "\n",
    "        # --- Customers Tab ---\n",
    "        cust_tab = QWidget()\n",
    "        cust_layout = QVBoxLayout()\n",
    "\n",
    "        # Table View\n",
    "        view = QTableView()\n",
    "        view.setModel(self.model)\n",
    "        cust_layout.addWidget(view)\n",
    "\n",
    "        # Input Form to add a new customer\n",
    "        form_layout = QHBoxLayout()\n",
    "        self.first_name_input = QLineEdit()\n",
    "        form_layout.addWidget(QLabel(\"First Name:\"))\n",
    "        form_layout.addWidget(self.first_name_input)\n",
    "        # Add other fields similarly: last_name, email, etc.\n",
    "\n",
    "        add_btn = QPushButton(\"Add Customer\")\n",
    "        add_btn.clicked.connect(self.add_customer)\n",
    "        form_layout.addWidget(add_btn)\n",
    "        cust_layout.addLayout(form_layout)\n",
    "\n",
    "        cust_tab.setLayout(cust_layout)\n",
    "        tabs.addTab(cust_tab, \"Customers\")\n",
    "\n",
    "        # You can add more tabs (e.g., Car, car_sales) following the same pattern\n",
    "\n",
    "        self.setCentralWidget(tabs)\n",
    "\n",
    "    def add_customer(self):\n",
    "        fn = self.first_name_input.text().strip()\n",
    "        if not fn:\n",
    "            QMessageBox.warning(self, \"Input Error\", \"First name cannot be empty.\")\n",
    "            return\n",
    "\n",
    "        # Create a new record and populate fields\n",
    "        record = self.model.record()\n",
    "        record.setValue(\"first_name\", fn)\n",
    "        # record.setValue(\"last_name\", self.last_name_input.text().strip())\n",
    "        # record.setValue(\"email\", self.email_input.text().strip())\n",
    "\n",
    "        if not self.model.insertRecord(-1, record):\n",
    "            QMessageBox.warning(self, \"Insert Error\", self.model.lastError().text())\n",
    "        else:\n",
    "            self.model.select()  # Refresh view\n",
    "            self.first_name_input.clear()\n",
    "            # clear other inputs similarly\n",
    "\n",
    "if __name__ == \"__main__\":\n",
    "    app = QApplication(sys.argv)\n",
    "    window = OperationalApp()\n",
    "    window.show()\n",
    "    sys.exit(app.exec_())"
   ]
  },
  {
   "cell_type": "code",
   "execution_count": 12,
   "id": "46fea14e-1cc9-4df0-bc14-1e956974f0ef",
   "metadata": {},
   "outputs": [],
   "source": [
    "cursor.close()\n",
    "conn.close()"
   ]
  },
  {
   "cell_type": "code",
   "execution_count": null,
   "id": "5d8b6466-6c12-4fc7-a800-bb302beae8c3",
   "metadata": {},
   "outputs": [],
   "source": []
  }
 ],
 "metadata": {
  "kernelspec": {
   "display_name": "Python [conda env:base] *",
   "language": "python",
   "name": "conda-base-py"
  },
  "language_info": {
   "codemirror_mode": {
    "name": "ipython",
    "version": 3
   },
   "file_extension": ".py",
   "mimetype": "text/x-python",
   "name": "python",
   "nbconvert_exporter": "python",
   "pygments_lexer": "ipython3",
   "version": "3.12.7"
  }
 },
 "nbformat": 4,
 "nbformat_minor": 5
}
