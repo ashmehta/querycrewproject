{
 "cells": [
  {
   "cell_type": "code",
   "execution_count": 50,
   "id": "e011e84f-22b9-49c5-9905-45877a018fd4",
   "metadata": {},
   "outputs": [],
   "source": [
    "import pandas as pd\n",
    "from sqlalchemy import create_engine\n",
    "import configparser\n",
    "\n",
    "# Load MySQL credentials\n",
    "def get_sqlalchemy_engine(config_file, section):\n",
    "    config = configparser.ConfigParser()\n",
    "    config.read(config_file)\n",
    "    db = config[section]\n",
    "    return create_engine(\n",
    "        f\"mysql+mysqlconnector://{db['user']}:{db['password']}@{db['host']}/{db['database']}\"\n",
    "    )\n",
    "\n",
    "# Connect to source (operational DB) and target (data warehouse)\n",
    "source_engine = get_sqlalchemy_engine(\"querycrew.ini\", \"querycrew_db\")\n",
    "target_engine = get_sqlalchemy_engine(\"querycrew.ini\", \"querycrew_wh\")"
   ]
  },
  {
   "cell_type": "code",
   "execution_count": 51,
   "id": "d2189db0-cb38-4a7a-9293-650ced9dfb35",
   "metadata": {},
   "outputs": [],
   "source": [
    "# CLEAN CUSTOMERS: Standardize names/emails, drop rows with missing key fields\n",
    "def clean_customers(df):\n",
    "    df = df.drop_duplicates(subset='customer_id')\n",
    "    df = df.dropna(subset=['first_name', 'last_name', 'email', 'phone', 'address'])\n",
    "    df['first_name'] = df['first_name'].str.title().str.strip()\n",
    "    df['last_name'] = df['last_name'].str.title().str.strip()\n",
    "    df['email'] = df['email'].str.lower().str.strip()\n",
    "    df['address'] = df['address'].str.title().str.strip()\n",
    "    return df"
   ]
  },
  {
   "cell_type": "code",
   "execution_count": 52,
   "id": "10033987-579d-41d3-ba67-e394620979f6",
   "metadata": {},
   "outputs": [],
   "source": [
    "# CLEAN CARS: Format make/model, remove incomplete rows\n",
    "def clean_cars(df):\n",
    "    df = df.drop_duplicates(subset='car_id')\n",
    "    df = df.dropna(subset=['car_make', 'car_model', 'year', 'car_cost'])\n",
    "\n",
    "    # Standardize everything except BMW\n",
    "    df['car_make'] = df['car_make'].apply(lambda x: x if x.strip().upper() == 'BMW' else x.title().strip())\n",
    "    \n",
    "    # Only change non-BMW car_model to title case\n",
    "    df['car_model'] = df.apply(\n",
    "        lambda row: row['car_model'].strip() if row['car_make'] == 'BMW' else row['car_model'].title().strip(),\n",
    "        axis=1\n",
    "    )\n",
    "\n",
    "    df['year'] = pd.to_numeric(df['year'], errors='coerce')\n",
    "    df['car_cost'] = pd.to_numeric(df['car_cost'], errors='coerce')\n",
    "    return df"
   ]
  },
  {
   "cell_type": "code",
   "execution_count": 53,
   "id": "8cf46d13-61a9-42f3-b6eb-039448ca9f65",
   "metadata": {},
   "outputs": [],
   "source": [
    "# CLEAN CAR SALES: Parse date, clean price, drop incomplete records\n",
    "def clean_car_sales(df):\n",
    "    df = df.drop_duplicates(subset='sale_id')\n",
    "    df = df.dropna(subset=['car_make', 'car_model', 'price', 'sale_date', 'year'])\n",
    "\n",
    "    df['car_make'] = df['car_make'].apply(lambda x: x if x.strip().upper() == 'BMW' else x.title().strip())\n",
    "    \n",
    "    df['car_model'] = df.apply(\n",
    "        lambda row: row['car_model'].strip() if row['car_make'] == 'BMW' else row['car_model'].title().strip(),\n",
    "        axis=1\n",
    "    )\n",
    "\n",
    "    df['price'] = pd.to_numeric(df['price'], errors='coerce')\n",
    "    df['sale_date'] = pd.to_datetime(df['sale_date'], errors='coerce')\n",
    "    df['year'] = pd.to_numeric(df['year'], errors='coerce')\n",
    "    return df"
   ]
  },
  {
   "cell_type": "code",
   "execution_count": 54,
   "id": "e2f0d4c1-7c9d-485c-9b04-dd134b33ea23",
   "metadata": {},
   "outputs": [],
   "source": [
    "# CLEAN EV ARRIVALS: Capitalize makes, fix dates, drop null values\n",
    "def clean_ev_arrivals(df):\n",
    "    df = df.drop_duplicates(subset='arrival_id')\n",
    "    df = df.dropna(subset=['ev_make', 'ev_model', 'arrival_date'])\n",
    "\n",
    "    df['ev_make'] = df['ev_make'].apply(lambda x: x if x.strip().upper() == 'BMW' else x.title().strip())\n",
    "    \n",
    "    df['ev_model'] = df.apply(\n",
    "        lambda row: row['ev_model'].strip() if row['ev_make'] == 'BMW' else row['ev_model'].title().strip(),\n",
    "        axis=1\n",
    "    )\n",
    "\n",
    "    df['arrival_date'] = pd.to_datetime(df['arrival_date'], errors='coerce')\n",
    "    return df"
   ]
  },
  {
   "cell_type": "code",
   "execution_count": 55,
   "id": "633f5268-40e6-4dfd-84e5-6e3e31ff6ec0",
   "metadata": {},
   "outputs": [],
   "source": [
    "# CLEAN DEALER SALES SUMMARY: Drop duplicates/nulls, parse numbers\n",
    "def clean_dealer_sales_summary(df):\n",
    "    df = df.drop_duplicates(subset='dealer_id')\n",
    "    df = df.dropna(subset=['dealer_name', 'total_sales'])\n",
    "    df['dealer_name'] = df['dealer_name'].str.title().str.strip()\n",
    "    df['total_sales'] = pd.to_numeric(df['total_sales'], errors='coerce')\n",
    "    return df"
   ]
  },
  {
   "cell_type": "code",
   "execution_count": 56,
   "id": "ed37cd13-6927-4ba4-8ce0-2ca96dd35e78",
   "metadata": {},
   "outputs": [],
   "source": [
    "# CLEAN DEALERS: Format names, drop if contact info is missing\n",
    "def clean_dealers(df):\n",
    "    df = df.drop_duplicates(subset='dealer_id')\n",
    "    df = df.dropna(subset=['dealer_name', 'phone', 'email'])\n",
    "    df['dealer_name'] = df['dealer_name'].str.title().str.strip()\n",
    "    return df"
   ]
  },
  {
   "cell_type": "code",
   "execution_count": 57,
   "id": "936f2a28-a0eb-4d48-aa45-e64a5ba29b53",
   "metadata": {},
   "outputs": [
    {
     "name": "stdout",
     "output_type": "stream",
     "text": [
      "Customers cleaned and loaded.\n",
      "Car cleaned and loaded.\n",
      "car_sales cleaned and loaded.\n",
      "EV_arrivals cleaned and loaded.\n",
      "dealer_sales_summary cleaned and loaded.\n",
      "Dealers cleaned and loaded.\n"
     ]
    }
   ],
   "source": [
    "# PROCESS AND LOAD CLEANED TABLES INTO WAREHOUSE (querycrew_wh)\n",
    "tables = {\n",
    "    \"Customers\": clean_customers,\n",
    "    \"Car\": clean_cars,\n",
    "    \"car_sales\": clean_car_sales,\n",
    "    \"EV_arrivals\": clean_ev_arrivals,\n",
    "    \"dealer_sales_summary\": clean_dealer_sales_summary,\n",
    "    \"Dealers\": clean_dealers\n",
    "}\n",
    "\n",
    "for table_name, clean_func in tables.items():\n",
    "    df = pd.read_sql_table(table_name, source_engine)\n",
    "    df_clean = clean_func(df)\n",
    "    df_clean.to_sql(table_name, con=target_engine, if_exists='replace', index=False)\n",
    "    print(f\"{table_name} cleaned and loaded.\")"
   ]
  }
 ],
 "metadata": {
  "kernelspec": {
   "display_name": "Python 3 (ipykernel)",
   "language": "python",
   "name": "python3"
  },
  "language_info": {
   "codemirror_mode": {
    "name": "ipython",
    "version": 3
   },
   "file_extension": ".py",
   "mimetype": "text/x-python",
   "name": "python",
   "nbconvert_exporter": "python",
   "pygments_lexer": "ipython3",
   "version": "3.10.16"
  }
 },
 "nbformat": 4,
 "nbformat_minor": 5
}
